{
 "cells": [
  {
   "cell_type": "markdown",
   "metadata": {},
   "source": [
    "### Jane Street Real-Time Market Data Forecasting baseline with LightGBM\n",
    "\n",
    "Link to the competition: https://www.kaggle.com/competitions/jane-street-real-time-market-data-forecasting/overview\n"
   ]
  },
  {
   "cell_type": "markdown",
   "metadata": {},
   "source": [
    "Important information\n",
    "\n",
    "- Lags: Values of responder_{0...8} lagged by one date_id. The evaluation API serves the entirety of the lagged responders for a date_id on that date_id's first time_id. In other words, all of the previous date's responders will be served at the first time step of the succeeding date.\n",
    "\n",
    "- The symbol_id column contains encrypted identifiers. Each symbol_id is not guaranteed to appear in all time_id and date_id combinations. Additionally, new symbol_id values may appear in future test sets."
   ]
  },
  {
   "cell_type": "markdown",
   "metadata": {},
   "source": [
    "We will use the zero-mean R-squared function as the loss and customize the evaluation metric.\n",
    "\n",
    "The zero-mean R-squared function is:\n",
    "\n",
    "$$ 1 - \\frac{\\sum_{i=1}^n w_i (y_i - \\hat{y}_i)^2}{\\sum_{i=1}^n w_i y_i^2} $$\n",
    "\n",
    "So the loss function is:\n",
    "\n",
    "$$ \\text{Loss} = \\sum_{i=1}^n w_i (y_i - \\hat{y}_i)^2 $$\n",
    "\n",
    "To incorporate the zero-mean R-squared into the training loss in LightGBM, we need to calculate the gradient and hessian, which are:\n",
    "\n",
    "$$ \\frac{\\partial \\text{Loss}}{\\partial \\hat{y}_i} = -2 w_i (y_i - \\hat{y}_i) $$\n",
    "\n",
    "\n",
    "$$ \\frac{\\partial^2 \\text{Loss}}{\\partial \\hat{y}_i^2} = 2 w_i $$"
   ]
  },
  {
   "cell_type": "markdown",
   "metadata": {},
   "source": [
    "In this notebook, we don't use lags at the moment. For more information about using lags data, check this [notebook](https://www.kaggle.com/code/motono0223/js24-preprocessing-create-lags)."
   ]
  },
  {
   "cell_type": "code",
   "execution_count": 1,
   "metadata": {},
   "outputs": [],
   "source": [
    "import numpy as np\n",
    "import lightgbm as lgb\n",
    "import polars as pl\n",
    "import plotly.express as px\n",
    "from pathlib import Path"
   ]
  },
  {
   "cell_type": "code",
   "execution_count": 2,
   "metadata": {},
   "outputs": [],
   "source": [
    "data_path = \"/home/yang/kaggle/jane/data\""
   ]
  },
  {
   "cell_type": "code",
   "execution_count": 3,
   "metadata": {},
   "outputs": [
    {
     "data": {
      "text/html": [
       "<div><style>\n",
       ".dataframe > thead > tr,\n",
       ".dataframe > tbody > tr {\n",
       "  text-align: right;\n",
       "  white-space: pre-wrap;\n",
       "}\n",
       "</style>\n",
       "<small>shape: (10, 92)</small><table border=\"1\" class=\"dataframe\"><thead><tr><th>date_id</th><th>time_id</th><th>symbol_id</th><th>weight</th><th>feature_00</th><th>feature_01</th><th>feature_02</th><th>feature_03</th><th>feature_04</th><th>feature_05</th><th>feature_06</th><th>feature_07</th><th>feature_08</th><th>feature_09</th><th>feature_10</th><th>feature_11</th><th>feature_12</th><th>feature_13</th><th>feature_14</th><th>feature_15</th><th>feature_16</th><th>feature_17</th><th>feature_18</th><th>feature_19</th><th>feature_20</th><th>feature_21</th><th>feature_22</th><th>feature_23</th><th>feature_24</th><th>feature_25</th><th>feature_26</th><th>feature_27</th><th>feature_28</th><th>feature_29</th><th>feature_30</th><th>feature_31</th><th>feature_32</th><th>&hellip;</th><th>feature_51</th><th>feature_52</th><th>feature_53</th><th>feature_54</th><th>feature_55</th><th>feature_56</th><th>feature_57</th><th>feature_58</th><th>feature_59</th><th>feature_60</th><th>feature_61</th><th>feature_62</th><th>feature_63</th><th>feature_64</th><th>feature_65</th><th>feature_66</th><th>feature_67</th><th>feature_68</th><th>feature_69</th><th>feature_70</th><th>feature_71</th><th>feature_72</th><th>feature_73</th><th>feature_74</th><th>feature_75</th><th>feature_76</th><th>feature_77</th><th>feature_78</th><th>responder_0</th><th>responder_1</th><th>responder_2</th><th>responder_3</th><th>responder_4</th><th>responder_5</th><th>responder_6</th><th>responder_7</th><th>responder_8</th></tr><tr><td>i16</td><td>i16</td><td>i8</td><td>f32</td><td>f32</td><td>f32</td><td>f32</td><td>f32</td><td>f32</td><td>f32</td><td>f32</td><td>f32</td><td>f32</td><td>i8</td><td>i8</td><td>i16</td><td>f32</td><td>f32</td><td>f32</td><td>f32</td><td>f32</td><td>f32</td><td>f32</td><td>f32</td><td>f32</td><td>f32</td><td>f32</td><td>f32</td><td>f32</td><td>f32</td><td>f32</td><td>f32</td><td>f32</td><td>f32</td><td>f32</td><td>f32</td><td>f32</td><td>&hellip;</td><td>f32</td><td>f32</td><td>f32</td><td>f32</td><td>f32</td><td>f32</td><td>f32</td><td>f32</td><td>f32</td><td>f32</td><td>f32</td><td>f32</td><td>f32</td><td>f32</td><td>f32</td><td>f32</td><td>f32</td><td>f32</td><td>f32</td><td>f32</td><td>f32</td><td>f32</td><td>f32</td><td>f32</td><td>f32</td><td>f32</td><td>f32</td><td>f32</td><td>f32</td><td>f32</td><td>f32</td><td>f32</td><td>f32</td><td>f32</td><td>f32</td><td>f32</td><td>f32</td></tr></thead><tbody><tr><td>0</td><td>0</td><td>1</td><td>3.889038</td><td>null</td><td>null</td><td>null</td><td>null</td><td>null</td><td>0.851033</td><td>0.242971</td><td>0.2634</td><td>-0.891687</td><td>11</td><td>7</td><td>76</td><td>-0.883028</td><td>0.003067</td><td>-0.744703</td><td>null</td><td>-0.169586</td><td>null</td><td>-1.335938</td><td>-1.707803</td><td>0.91013</td><td>null</td><td>1.636431</td><td>1.522133</td><td>-1.551398</td><td>-0.229627</td><td>null</td><td>null</td><td>1.378301</td><td>-0.283712</td><td>0.123196</td><td>null</td><td>null</td><td>&hellip;</td><td>0.204797</td><td>null</td><td>null</td><td>-0.808103</td><td>null</td><td>-2.037683</td><td>0.727661</td><td>null</td><td>-0.989118</td><td>-0.345213</td><td>-1.36224</td><td>null</td><td>null</td><td>null</td><td>null</td><td>null</td><td>-1.251104</td><td>-0.110252</td><td>-0.491157</td><td>-1.02269</td><td>0.152241</td><td>-0.659864</td><td>null</td><td>null</td><td>-0.261412</td><td>-0.211486</td><td>-0.335556</td><td>-0.281498</td><td>0.738489</td><td>-0.069556</td><td>1.380875</td><td>2.005353</td><td>0.186018</td><td>1.218368</td><td>0.775981</td><td>0.346999</td><td>0.095504</td></tr><tr><td>0</td><td>0</td><td>7</td><td>1.370613</td><td>null</td><td>null</td><td>null</td><td>null</td><td>null</td><td>0.676961</td><td>0.151984</td><td>0.192465</td><td>-0.521729</td><td>11</td><td>7</td><td>76</td><td>-0.865307</td><td>-0.225629</td><td>-0.582163</td><td>null</td><td>0.317467</td><td>null</td><td>-1.250016</td><td>-1.682929</td><td>1.412757</td><td>null</td><td>0.520378</td><td>0.744132</td><td>-0.788658</td><td>0.641776</td><td>null</td><td>null</td><td>0.2272</td><td>0.580907</td><td>1.128879</td><td>null</td><td>null</td><td>&hellip;</td><td>1.172836</td><td>null</td><td>null</td><td>-1.625862</td><td>null</td><td>-1.410017</td><td>1.063013</td><td>null</td><td>0.888355</td><td>0.467994</td><td>-1.36224</td><td>null</td><td>null</td><td>null</td><td>null</td><td>null</td><td>-1.065759</td><td>0.013322</td><td>-0.592855</td><td>-1.052685</td><td>-0.393726</td><td>-0.741603</td><td>null</td><td>null</td><td>-0.281207</td><td>-0.182894</td><td>-0.245565</td><td>-0.302441</td><td>2.965889</td><td>1.190077</td><td>-0.523998</td><td>3.849921</td><td>2.626981</td><td>5.0</td><td>0.703665</td><td>0.216683</td><td>0.778639</td></tr><tr><td>0</td><td>0</td><td>9</td><td>2.285698</td><td>null</td><td>null</td><td>null</td><td>null</td><td>null</td><td>1.056285</td><td>0.187227</td><td>0.249901</td><td>-0.77305</td><td>11</td><td>7</td><td>76</td><td>-0.675719</td><td>-0.199404</td><td>-0.586798</td><td>null</td><td>-0.814909</td><td>null</td><td>-1.296782</td><td>-2.040234</td><td>0.639589</td><td>null</td><td>1.597359</td><td>0.657514</td><td>-1.350148</td><td>0.364215</td><td>null</td><td>null</td><td>-0.017751</td><td>-0.317361</td><td>-0.122379</td><td>null</td><td>null</td><td>&hellip;</td><td>0.535897</td><td>null</td><td>null</td><td>-0.72542</td><td>null</td><td>-2.29417</td><td>1.764551</td><td>null</td><td>-0.120789</td><td>-0.063458</td><td>-1.36224</td><td>null</td><td>null</td><td>null</td><td>null</td><td>null</td><td>-0.882604</td><td>-0.072482</td><td>-0.617934</td><td>-0.86323</td><td>-0.241892</td><td>-0.709919</td><td>null</td><td>null</td><td>0.377131</td><td>0.300724</td><td>-0.106842</td><td>-0.096792</td><td>-0.864488</td><td>-0.280303</td><td>-0.326697</td><td>0.375781</td><td>1.271291</td><td>0.099793</td><td>2.109352</td><td>0.670881</td><td>0.772828</td></tr><tr><td>0</td><td>0</td><td>10</td><td>0.690606</td><td>null</td><td>null</td><td>null</td><td>null</td><td>null</td><td>1.139366</td><td>0.273328</td><td>0.306549</td><td>-1.262223</td><td>42</td><td>5</td><td>150</td><td>-0.694008</td><td>3.004091</td><td>0.114809</td><td>null</td><td>-0.251882</td><td>null</td><td>-1.902009</td><td>-0.979447</td><td>0.241165</td><td>null</td><td>-0.392359</td><td>-0.224699</td><td>-2.129397</td><td>-0.855287</td><td>null</td><td>null</td><td>0.404142</td><td>-0.578156</td><td>0.105702</td><td>null</td><td>null</td><td>&hellip;</td><td>2.413415</td><td>null</td><td>null</td><td>1.313203</td><td>null</td><td>-0.810125</td><td>2.939022</td><td>null</td><td>3.988801</td><td>1.834661</td><td>-1.36224</td><td>null</td><td>null</td><td>null</td><td>null</td><td>null</td><td>-0.697595</td><td>1.074309</td><td>-0.206929</td><td>-0.530602</td><td>4.765215</td><td>0.571554</td><td>null</td><td>null</td><td>-0.226891</td><td>-0.251412</td><td>-0.215522</td><td>-0.296244</td><td>0.408499</td><td>0.223992</td><td>2.294888</td><td>1.097444</td><td>1.225872</td><td>1.225376</td><td>1.114137</td><td>0.775199</td><td>-1.379516</td></tr><tr><td>0</td><td>0</td><td>14</td><td>0.44057</td><td>null</td><td>null</td><td>null</td><td>null</td><td>null</td><td>0.9552</td><td>0.262404</td><td>0.344457</td><td>-0.613813</td><td>44</td><td>3</td><td>16</td><td>-0.947351</td><td>-0.030018</td><td>-0.502379</td><td>null</td><td>0.646086</td><td>null</td><td>-1.844685</td><td>-1.58656</td><td>-0.182024</td><td>null</td><td>-0.969949</td><td>-0.673813</td><td>-1.282132</td><td>-1.399894</td><td>null</td><td>null</td><td>0.043815</td><td>-0.320225</td><td>-0.031713</td><td>null</td><td>null</td><td>&hellip;</td><td>1.253902</td><td>null</td><td>null</td><td>0.476195</td><td>null</td><td>-0.771732</td><td>2.843421</td><td>null</td><td>1.379815</td><td>0.411827</td><td>-1.36224</td><td>null</td><td>null</td><td>null</td><td>null</td><td>null</td><td>-0.948601</td><td>-0.136814</td><td>-0.447704</td><td>-1.141761</td><td>0.099631</td><td>-0.661928</td><td>null</td><td>null</td><td>3.678076</td><td>2.793581</td><td>2.61825</td><td>3.418133</td><td>-0.373387</td><td>-0.502764</td><td>-0.348021</td><td>-3.928148</td><td>-1.591366</td><td>-5.0</td><td>-3.57282</td><td>-1.089123</td><td>-5.0</td></tr><tr><td>0</td><td>0</td><td>16</td><td>1.118269</td><td>null</td><td>null</td><td>null</td><td>null</td><td>null</td><td>1.092428</td><td>0.241437</td><td>0.309494</td><td>-1.047909</td><td>11</td><td>7</td><td>76</td><td>-0.375681</td><td>0.195831</td><td>-0.408775</td><td>null</td><td>0.592456</td><td>null</td><td>-0.998185</td><td>-1.444947</td><td>0.748643</td><td>null</td><td>0.36953</td><td>0.748203</td><td>-1.476237</td><td>-0.098337</td><td>null</td><td>null</td><td>0.276082</td><td>0.108393</td><td>0.762983</td><td>null</td><td>null</td><td>&hellip;</td><td>0.781335</td><td>null</td><td>null</td><td>-0.852696</td><td>null</td><td>-1.823927</td><td>1.409013</td><td>null</td><td>-1.46437</td><td>-0.784301</td><td>-1.36224</td><td>null</td><td>null</td><td>null</td><td>null</td><td>null</td><td>-0.81232</td><td>0.501891</td><td>-0.32754</td><td>-0.522513</td><td>-0.163335</td><td>-0.706811</td><td>null</td><td>null</td><td>-0.272425</td><td>-0.253911</td><td>-0.346411</td><td>-0.189784</td><td>0.505199</td><td>0.035095</td><td>-1.976849</td><td>1.33572</td><td>-1.215543</td><td>-1.593503</td><td>0.84055</td><td>0.246794</td><td>-0.101013</td></tr><tr><td>0</td><td>0</td><td>19</td><td>2.456331</td><td>null</td><td>null</td><td>null</td><td>null</td><td>null</td><td>0.747231</td><td>0.168143</td><td>0.193987</td><td>-0.602202</td><td>4</td><td>3</td><td>11</td><td>-1.062734</td><td>0.795971</td><td>-0.237297</td><td>null</td><td>0.388065</td><td>null</td><td>-0.913943</td><td>-1.914018</td><td>0.105461</td><td>null</td><td>0.946351</td><td>1.344925</td><td>-0.573883</td><td>0.964037</td><td>null</td><td>null</td><td>-0.616086</td><td>0.142924</td><td>0.266898</td><td>null</td><td>null</td><td>&hellip;</td><td>0.881099</td><td>null</td><td>null</td><td>-2.042819</td><td>null</td><td>-1.802318</td><td>1.041058</td><td>null</td><td>-1.487282</td><td>-0.671137</td><td>-1.36224</td><td>null</td><td>null</td><td>null</td><td>null</td><td>null</td><td>-0.77469</td><td>1.127827</td><td>-0.201782</td><td>-0.990042</td><td>1.306702</td><td>-0.356026</td><td>null</td><td>null</td><td>-0.330015</td><td>-0.249928</td><td>-0.210434</td><td>-0.187166</td><td>0.096462</td><td>-0.252154</td><td>-0.002623</td><td>-1.002823</td><td>-0.632378</td><td>0.112727</td><td>-0.807892</td><td>-0.704062</td><td>0.184303</td></tr><tr><td>0</td><td>0</td><td>33</td><td>1.663408</td><td>null</td><td>null</td><td>null</td><td>null</td><td>null</td><td>1.182569</td><td>0.206299</td><td>0.253336</td><td>-0.946356</td><td>11</td><td>7</td><td>76</td><td>-0.766347</td><td>-0.406701</td><td>-1.033553</td><td>null</td><td>1.628502</td><td>null</td><td>-1.145392</td><td>-1.682898</td><td>0.679352</td><td>null</td><td>0.767303</td><td>0.740793</td><td>-1.215067</td><td>-1.124142</td><td>null</td><td>null</td><td>-0.46222</td><td>0.263958</td><td>1.038144</td><td>null</td><td>null</td><td>&hellip;</td><td>1.122132</td><td>null</td><td>null</td><td>-1.721597</td><td>null</td><td>-0.916624</td><td>1.604584</td><td>null</td><td>1.223971</td><td>0.653575</td><td>-1.36224</td><td>null</td><td>null</td><td>null</td><td>null</td><td>null</td><td>-0.856799</td><td>-0.313983</td><td>-0.510727</td><td>-0.710232</td><td>-0.222114</td><td>-0.823108</td><td>null</td><td>null</td><td>-0.347611</td><td>-0.286403</td><td>-0.399971</td><td>-0.171215</td><td>0.209253</td><td>0.182766</td><td>0.010843</td><td>1.409293</td><td>0.002821</td><td>0.147636</td><td>0.965387</td><td>-0.263765</td><td>0.280629</td></tr><tr><td>0</td><td>1</td><td>1</td><td>3.889038</td><td>null</td><td>null</td><td>null</td><td>null</td><td>null</td><td>0.917613</td><td>-0.401377</td><td>0.066465</td><td>-0.724457</td><td>11</td><td>7</td><td>76</td><td>-0.754305</td><td>-0.010117</td><td>-0.589252</td><td>null</td><td>-0.2128</td><td>null</td><td>-1.07089</td><td>-1.121607</td><td>0.91013</td><td>null</td><td>1.636431</td><td>1.522133</td><td>-1.551398</td><td>-0.229627</td><td>null</td><td>null</td><td>1.378301</td><td>-0.283712</td><td>0.123196</td><td>null</td><td>null</td><td>&hellip;</td><td>0.041353</td><td>null</td><td>null</td><td>-1.055839</td><td>null</td><td>-1.715698</td><td>1.856922</td><td>null</td><td>-0.352075</td><td>-0.250698</td><td>-1.36224</td><td>null</td><td>null</td><td>null</td><td>null</td><td>null</td><td>-0.766033</td><td>-0.177765</td><td>-0.470256</td><td>-1.287999</td><td>0.196725</td><td>-0.319822</td><td>null</td><td>null</td><td>-0.211037</td><td>-0.235291</td><td>-0.269429</td><td>-0.301006</td><td>0.80866</td><td>-0.10582</td><td>1.493438</td><td>1.387199</td><td>0.095372</td><td>1.163139</td><td>0.751976</td><td>0.348024</td><td>0.041855</td></tr><tr><td>0</td><td>1</td><td>7</td><td>1.370613</td><td>null</td><td>null</td><td>null</td><td>null</td><td>null</td><td>0.877172</td><td>-0.254713</td><td>0.04721</td><td>-0.673954</td><td>11</td><td>7</td><td>76</td><td>-1.070783</td><td>0.749826</td><td>-0.530852</td><td>null</td><td>1.098499</td><td>null</td><td>-1.333668</td><td>-1.410048</td><td>1.412757</td><td>null</td><td>0.520378</td><td>0.744132</td><td>-0.788658</td><td>0.641776</td><td>null</td><td>null</td><td>0.2272</td><td>0.580907</td><td>1.128879</td><td>null</td><td>null</td><td>&hellip;</td><td>-0.064571</td><td>null</td><td>null</td><td>-0.938621</td><td>null</td><td>-2.335762</td><td>1.684062</td><td>null</td><td>-0.049584</td><td>0.194288</td><td>-1.36224</td><td>null</td><td>null</td><td>null</td><td>null</td><td>null</td><td>-0.974702</td><td>1.749538</td><td>-0.214511</td><td>-0.965937</td><td>-0.192011</td><td>-0.498838</td><td>null</td><td>null</td><td>-0.293913</td><td>-0.240564</td><td>-0.208652</td><td>-0.294585</td><td>3.119074</td><td>1.52468</td><td>-0.080976</td><td>4.015586</td><td>2.337222</td><td>5.0</td><td>0.635277</td><td>0.009769</td><td>0.251455</td></tr></tbody></table></div>"
      ],
      "text/plain": [
       "shape: (10, 92)\n",
       "┌─────────┬─────────┬───────────┬──────────┬───┬────────────┬────────────┬────────────┬────────────┐\n",
       "│ date_id ┆ time_id ┆ symbol_id ┆ weight   ┆ … ┆ responder_ ┆ responder_ ┆ responder_ ┆ responder_ │\n",
       "│ ---     ┆ ---     ┆ ---       ┆ ---      ┆   ┆ 5          ┆ 6          ┆ 7          ┆ 8          │\n",
       "│ i16     ┆ i16     ┆ i8        ┆ f32      ┆   ┆ ---        ┆ ---        ┆ ---        ┆ ---        │\n",
       "│         ┆         ┆           ┆          ┆   ┆ f32        ┆ f32        ┆ f32        ┆ f32        │\n",
       "╞═════════╪═════════╪═══════════╪══════════╪═══╪════════════╪════════════╪════════════╪════════════╡\n",
       "│ 0       ┆ 0       ┆ 1         ┆ 3.889038 ┆ … ┆ 1.218368   ┆ 0.775981   ┆ 0.346999   ┆ 0.095504   │\n",
       "│ 0       ┆ 0       ┆ 7         ┆ 1.370613 ┆ … ┆ 5.0        ┆ 0.703665   ┆ 0.216683   ┆ 0.778639   │\n",
       "│ 0       ┆ 0       ┆ 9         ┆ 2.285698 ┆ … ┆ 0.099793   ┆ 2.109352   ┆ 0.670881   ┆ 0.772828   │\n",
       "│ 0       ┆ 0       ┆ 10        ┆ 0.690606 ┆ … ┆ 1.225376   ┆ 1.114137   ┆ 0.775199   ┆ -1.379516  │\n",
       "│ 0       ┆ 0       ┆ 14        ┆ 0.44057  ┆ … ┆ -5.0       ┆ -3.57282   ┆ -1.089123  ┆ -5.0       │\n",
       "│ 0       ┆ 0       ┆ 16        ┆ 1.118269 ┆ … ┆ -1.593503  ┆ 0.84055    ┆ 0.246794   ┆ -0.101013  │\n",
       "│ 0       ┆ 0       ┆ 19        ┆ 2.456331 ┆ … ┆ 0.112727   ┆ -0.807892  ┆ -0.704062  ┆ 0.184303   │\n",
       "│ 0       ┆ 0       ┆ 33        ┆ 1.663408 ┆ … ┆ 0.147636   ┆ 0.965387   ┆ -0.263765  ┆ 0.280629   │\n",
       "│ 0       ┆ 1       ┆ 1         ┆ 3.889038 ┆ … ┆ 1.163139   ┆ 0.751976   ┆ 0.348024   ┆ 0.041855   │\n",
       "│ 0       ┆ 1       ┆ 7         ┆ 1.370613 ┆ … ┆ 5.0        ┆ 0.635277   ┆ 0.009769   ┆ 0.251455   │\n",
       "└─────────┴─────────┴───────────┴──────────┴───┴────────────┴────────────┴────────────┴────────────┘"
      ]
     },
     "execution_count": 3,
     "metadata": {},
     "output_type": "execute_result"
    }
   ],
   "source": [
    "training_data = pl.read_parquet(Path(data_path, \"train.parquet\", \"partition_id=0\", \"part-0.parquet\"))\n",
    "training_data.head(10)"
   ]
  },
  {
   "cell_type": "code",
   "execution_count": 19,
   "metadata": {},
   "outputs": [
    {
     "data": {
      "text/plain": [
       "0.6481935195624828"
      ]
     },
     "execution_count": 19,
     "metadata": {},
     "output_type": "execute_result"
    }
   ],
   "source": [
    "training_data.estimated_size(\"gb\")"
   ]
  },
  {
   "cell_type": "code",
   "execution_count": 4,
   "metadata": {},
   "outputs": [
    {
     "data": {
      "text/html": [
       "<div><style>\n",
       ".dataframe > thead > tr,\n",
       ".dataframe > tbody > tr {\n",
       "  text-align: right;\n",
       "  white-space: pre-wrap;\n",
       "}\n",
       "</style>\n",
       "<small>shape: (5, 92)</small><table border=\"1\" class=\"dataframe\"><thead><tr><th>date_id</th><th>time_id</th><th>symbol_id</th><th>weight</th><th>feature_00</th><th>feature_01</th><th>feature_02</th><th>feature_03</th><th>feature_04</th><th>feature_05</th><th>feature_06</th><th>feature_07</th><th>feature_08</th><th>feature_09</th><th>feature_10</th><th>feature_11</th><th>feature_12</th><th>feature_13</th><th>feature_14</th><th>feature_15</th><th>feature_16</th><th>feature_17</th><th>feature_18</th><th>feature_19</th><th>feature_20</th><th>feature_21</th><th>feature_22</th><th>feature_23</th><th>feature_24</th><th>feature_25</th><th>feature_26</th><th>feature_27</th><th>feature_28</th><th>feature_29</th><th>feature_30</th><th>feature_31</th><th>feature_32</th><th>&hellip;</th><th>feature_51</th><th>feature_52</th><th>feature_53</th><th>feature_54</th><th>feature_55</th><th>feature_56</th><th>feature_57</th><th>feature_58</th><th>feature_59</th><th>feature_60</th><th>feature_61</th><th>feature_62</th><th>feature_63</th><th>feature_64</th><th>feature_65</th><th>feature_66</th><th>feature_67</th><th>feature_68</th><th>feature_69</th><th>feature_70</th><th>feature_71</th><th>feature_72</th><th>feature_73</th><th>feature_74</th><th>feature_75</th><th>feature_76</th><th>feature_77</th><th>feature_78</th><th>responder_0</th><th>responder_1</th><th>responder_2</th><th>responder_3</th><th>responder_4</th><th>responder_5</th><th>responder_6</th><th>responder_7</th><th>responder_8</th></tr><tr><td>i16</td><td>i16</td><td>i8</td><td>f32</td><td>f32</td><td>f32</td><td>f32</td><td>f32</td><td>f32</td><td>f32</td><td>f32</td><td>f32</td><td>f32</td><td>i8</td><td>i8</td><td>i16</td><td>f32</td><td>f32</td><td>f32</td><td>f32</td><td>f32</td><td>f32</td><td>f32</td><td>f32</td><td>f32</td><td>f32</td><td>f32</td><td>f32</td><td>f32</td><td>f32</td><td>f32</td><td>f32</td><td>f32</td><td>f32</td><td>f32</td><td>f32</td><td>f32</td><td>&hellip;</td><td>f32</td><td>f32</td><td>f32</td><td>f32</td><td>f32</td><td>f32</td><td>f32</td><td>f32</td><td>f32</td><td>f32</td><td>f32</td><td>f32</td><td>f32</td><td>f32</td><td>f32</td><td>f32</td><td>f32</td><td>f32</td><td>f32</td><td>f32</td><td>f32</td><td>f32</td><td>f32</td><td>f32</td><td>f32</td><td>f32</td><td>f32</td><td>f32</td><td>f32</td><td>f32</td><td>f32</td><td>f32</td><td>f32</td><td>f32</td><td>f32</td><td>f32</td><td>f32</td></tr></thead><tbody><tr><td>0</td><td>0</td><td>1</td><td>3.889038</td><td>0.0</td><td>0.0</td><td>0.0</td><td>0.0</td><td>0.0</td><td>0.851033</td><td>0.242971</td><td>0.2634</td><td>-0.891687</td><td>11</td><td>7</td><td>76</td><td>-0.883028</td><td>0.003067</td><td>-0.744703</td><td>0.0</td><td>-0.169586</td><td>0.0</td><td>-1.335938</td><td>-1.707803</td><td>0.91013</td><td>0.0</td><td>1.636431</td><td>1.522133</td><td>-1.551398</td><td>-0.229627</td><td>0.0</td><td>0.0</td><td>1.378301</td><td>-0.283712</td><td>0.123196</td><td>0.0</td><td>0.0</td><td>&hellip;</td><td>0.204797</td><td>0.0</td><td>0.0</td><td>-0.808103</td><td>0.0</td><td>-2.037683</td><td>0.727661</td><td>0.0</td><td>-0.989118</td><td>-0.345213</td><td>-1.36224</td><td>0.0</td><td>0.0</td><td>0.0</td><td>0.0</td><td>0.0</td><td>-1.251104</td><td>-0.110252</td><td>-0.491157</td><td>-1.02269</td><td>0.152241</td><td>-0.659864</td><td>0.0</td><td>0.0</td><td>-0.261412</td><td>-0.211486</td><td>-0.335556</td><td>-0.281498</td><td>0.738489</td><td>-0.069556</td><td>1.380875</td><td>2.005353</td><td>0.186018</td><td>1.218368</td><td>0.775981</td><td>0.346999</td><td>0.095504</td></tr><tr><td>0</td><td>0</td><td>7</td><td>1.370613</td><td>0.0</td><td>0.0</td><td>0.0</td><td>0.0</td><td>0.0</td><td>0.676961</td><td>0.151984</td><td>0.192465</td><td>-0.521729</td><td>11</td><td>7</td><td>76</td><td>-0.865307</td><td>-0.225629</td><td>-0.582163</td><td>0.0</td><td>0.317467</td><td>0.0</td><td>-1.250016</td><td>-1.682929</td><td>1.412757</td><td>0.0</td><td>0.520378</td><td>0.744132</td><td>-0.788658</td><td>0.641776</td><td>0.0</td><td>0.0</td><td>0.2272</td><td>0.580907</td><td>1.128879</td><td>0.0</td><td>0.0</td><td>&hellip;</td><td>1.172836</td><td>0.0</td><td>0.0</td><td>-1.625862</td><td>0.0</td><td>-1.410017</td><td>1.063013</td><td>0.0</td><td>0.888355</td><td>0.467994</td><td>-1.36224</td><td>0.0</td><td>0.0</td><td>0.0</td><td>0.0</td><td>0.0</td><td>-1.065759</td><td>0.013322</td><td>-0.592855</td><td>-1.052685</td><td>-0.393726</td><td>-0.741603</td><td>0.0</td><td>0.0</td><td>-0.281207</td><td>-0.182894</td><td>-0.245565</td><td>-0.302441</td><td>2.965889</td><td>1.190077</td><td>-0.523998</td><td>3.849921</td><td>2.626981</td><td>5.0</td><td>0.703665</td><td>0.216683</td><td>0.778639</td></tr><tr><td>0</td><td>0</td><td>9</td><td>2.285698</td><td>0.0</td><td>0.0</td><td>0.0</td><td>0.0</td><td>0.0</td><td>1.056285</td><td>0.187227</td><td>0.249901</td><td>-0.77305</td><td>11</td><td>7</td><td>76</td><td>-0.675719</td><td>-0.199404</td><td>-0.586798</td><td>0.0</td><td>-0.814909</td><td>0.0</td><td>-1.296782</td><td>-2.040234</td><td>0.639589</td><td>0.0</td><td>1.597359</td><td>0.657514</td><td>-1.350148</td><td>0.364215</td><td>0.0</td><td>0.0</td><td>-0.017751</td><td>-0.317361</td><td>-0.122379</td><td>0.0</td><td>0.0</td><td>&hellip;</td><td>0.535897</td><td>0.0</td><td>0.0</td><td>-0.72542</td><td>0.0</td><td>-2.29417</td><td>1.764551</td><td>0.0</td><td>-0.120789</td><td>-0.063458</td><td>-1.36224</td><td>0.0</td><td>0.0</td><td>0.0</td><td>0.0</td><td>0.0</td><td>-0.882604</td><td>-0.072482</td><td>-0.617934</td><td>-0.86323</td><td>-0.241892</td><td>-0.709919</td><td>0.0</td><td>0.0</td><td>0.377131</td><td>0.300724</td><td>-0.106842</td><td>-0.096792</td><td>-0.864488</td><td>-0.280303</td><td>-0.326697</td><td>0.375781</td><td>1.271291</td><td>0.099793</td><td>2.109352</td><td>0.670881</td><td>0.772828</td></tr><tr><td>0</td><td>0</td><td>10</td><td>0.690606</td><td>0.0</td><td>0.0</td><td>0.0</td><td>0.0</td><td>0.0</td><td>1.139366</td><td>0.273328</td><td>0.306549</td><td>-1.262223</td><td>42</td><td>5</td><td>150</td><td>-0.694008</td><td>3.004091</td><td>0.114809</td><td>0.0</td><td>-0.251882</td><td>0.0</td><td>-1.902009</td><td>-0.979447</td><td>0.241165</td><td>0.0</td><td>-0.392359</td><td>-0.224699</td><td>-2.129397</td><td>-0.855287</td><td>0.0</td><td>0.0</td><td>0.404142</td><td>-0.578156</td><td>0.105702</td><td>0.0</td><td>0.0</td><td>&hellip;</td><td>2.413415</td><td>0.0</td><td>0.0</td><td>1.313203</td><td>0.0</td><td>-0.810125</td><td>2.939022</td><td>0.0</td><td>3.988801</td><td>1.834661</td><td>-1.36224</td><td>0.0</td><td>0.0</td><td>0.0</td><td>0.0</td><td>0.0</td><td>-0.697595</td><td>1.074309</td><td>-0.206929</td><td>-0.530602</td><td>4.765215</td><td>0.571554</td><td>0.0</td><td>0.0</td><td>-0.226891</td><td>-0.251412</td><td>-0.215522</td><td>-0.296244</td><td>0.408499</td><td>0.223992</td><td>2.294888</td><td>1.097444</td><td>1.225872</td><td>1.225376</td><td>1.114137</td><td>0.775199</td><td>-1.379516</td></tr><tr><td>0</td><td>0</td><td>14</td><td>0.44057</td><td>0.0</td><td>0.0</td><td>0.0</td><td>0.0</td><td>0.0</td><td>0.9552</td><td>0.262404</td><td>0.344457</td><td>-0.613813</td><td>44</td><td>3</td><td>16</td><td>-0.947351</td><td>-0.030018</td><td>-0.502379</td><td>0.0</td><td>0.646086</td><td>0.0</td><td>-1.844685</td><td>-1.58656</td><td>-0.182024</td><td>0.0</td><td>-0.969949</td><td>-0.673813</td><td>-1.282132</td><td>-1.399894</td><td>0.0</td><td>0.0</td><td>0.043815</td><td>-0.320225</td><td>-0.031713</td><td>0.0</td><td>0.0</td><td>&hellip;</td><td>1.253902</td><td>0.0</td><td>0.0</td><td>0.476195</td><td>0.0</td><td>-0.771732</td><td>2.843421</td><td>0.0</td><td>1.379815</td><td>0.411827</td><td>-1.36224</td><td>0.0</td><td>0.0</td><td>0.0</td><td>0.0</td><td>0.0</td><td>-0.948601</td><td>-0.136814</td><td>-0.447704</td><td>-1.141761</td><td>0.099631</td><td>-0.661928</td><td>0.0</td><td>0.0</td><td>3.678076</td><td>2.793581</td><td>2.61825</td><td>3.418133</td><td>-0.373387</td><td>-0.502764</td><td>-0.348021</td><td>-3.928148</td><td>-1.591366</td><td>-5.0</td><td>-3.57282</td><td>-1.089123</td><td>-5.0</td></tr></tbody></table></div>"
      ],
      "text/plain": [
       "shape: (5, 92)\n",
       "┌─────────┬─────────┬───────────┬──────────┬───┬────────────┬────────────┬────────────┬────────────┐\n",
       "│ date_id ┆ time_id ┆ symbol_id ┆ weight   ┆ … ┆ responder_ ┆ responder_ ┆ responder_ ┆ responder_ │\n",
       "│ ---     ┆ ---     ┆ ---       ┆ ---      ┆   ┆ 5          ┆ 6          ┆ 7          ┆ 8          │\n",
       "│ i16     ┆ i16     ┆ i8        ┆ f32      ┆   ┆ ---        ┆ ---        ┆ ---        ┆ ---        │\n",
       "│         ┆         ┆           ┆          ┆   ┆ f32        ┆ f32        ┆ f32        ┆ f32        │\n",
       "╞═════════╪═════════╪═══════════╪══════════╪═══╪════════════╪════════════╪════════════╪════════════╡\n",
       "│ 0       ┆ 0       ┆ 1         ┆ 3.889038 ┆ … ┆ 1.218368   ┆ 0.775981   ┆ 0.346999   ┆ 0.095504   │\n",
       "│ 0       ┆ 0       ┆ 7         ┆ 1.370613 ┆ … ┆ 5.0        ┆ 0.703665   ┆ 0.216683   ┆ 0.778639   │\n",
       "│ 0       ┆ 0       ┆ 9         ┆ 2.285698 ┆ … ┆ 0.099793   ┆ 2.109352   ┆ 0.670881   ┆ 0.772828   │\n",
       "│ 0       ┆ 0       ┆ 10        ┆ 0.690606 ┆ … ┆ 1.225376   ┆ 1.114137   ┆ 0.775199   ┆ -1.379516  │\n",
       "│ 0       ┆ 0       ┆ 14        ┆ 0.44057  ┆ … ┆ -5.0       ┆ -3.57282   ┆ -1.089123  ┆ -5.0       │\n",
       "└─────────┴─────────┴───────────┴──────────┴───┴────────────┴────────────┴────────────┴────────────┘"
      ]
     },
     "execution_count": 4,
     "metadata": {},
     "output_type": "execute_result"
    }
   ],
   "source": [
    "# convert all null to 0\n",
    "training_data = training_data.fill_null(0)\n",
    "training_data.head(5)"
   ]
  },
  {
   "cell_type": "code",
   "execution_count": 5,
   "metadata": {},
   "outputs": [],
   "source": [
    "train_feature_list = [\"time_id\", \"symbol_id\"] + [f\"feature_{idx:02d}\" for idx in range(79)]"
   ]
  },
  {
   "cell_type": "code",
   "execution_count": 6,
   "metadata": {},
   "outputs": [],
   "source": [
    "weight = training_data[\"weight\"]"
   ]
  },
  {
   "cell_type": "code",
   "execution_count": 7,
   "metadata": {},
   "outputs": [
    {
     "data": {
      "text/html": [
       "<div><style>\n",
       ".dataframe > thead > tr,\n",
       ".dataframe > tbody > tr {\n",
       "  text-align: right;\n",
       "  white-space: pre-wrap;\n",
       "}\n",
       "</style>\n",
       "<small>shape: (10, 81)</small><table border=\"1\" class=\"dataframe\"><thead><tr><th>time_id</th><th>symbol_id</th><th>feature_00</th><th>feature_01</th><th>feature_02</th><th>feature_03</th><th>feature_04</th><th>feature_05</th><th>feature_06</th><th>feature_07</th><th>feature_08</th><th>feature_09</th><th>feature_10</th><th>feature_11</th><th>feature_12</th><th>feature_13</th><th>feature_14</th><th>feature_15</th><th>feature_16</th><th>feature_17</th><th>feature_18</th><th>feature_19</th><th>feature_20</th><th>feature_21</th><th>feature_22</th><th>feature_23</th><th>feature_24</th><th>feature_25</th><th>feature_26</th><th>feature_27</th><th>feature_28</th><th>feature_29</th><th>feature_30</th><th>feature_31</th><th>feature_32</th><th>feature_33</th><th>feature_34</th><th>&hellip;</th><th>feature_42</th><th>feature_43</th><th>feature_44</th><th>feature_45</th><th>feature_46</th><th>feature_47</th><th>feature_48</th><th>feature_49</th><th>feature_50</th><th>feature_51</th><th>feature_52</th><th>feature_53</th><th>feature_54</th><th>feature_55</th><th>feature_56</th><th>feature_57</th><th>feature_58</th><th>feature_59</th><th>feature_60</th><th>feature_61</th><th>feature_62</th><th>feature_63</th><th>feature_64</th><th>feature_65</th><th>feature_66</th><th>feature_67</th><th>feature_68</th><th>feature_69</th><th>feature_70</th><th>feature_71</th><th>feature_72</th><th>feature_73</th><th>feature_74</th><th>feature_75</th><th>feature_76</th><th>feature_77</th><th>feature_78</th></tr><tr><td>i16</td><td>i8</td><td>f32</td><td>f32</td><td>f32</td><td>f32</td><td>f32</td><td>f32</td><td>f32</td><td>f32</td><td>f32</td><td>i8</td><td>i8</td><td>i16</td><td>f32</td><td>f32</td><td>f32</td><td>f32</td><td>f32</td><td>f32</td><td>f32</td><td>f32</td><td>f32</td><td>f32</td><td>f32</td><td>f32</td><td>f32</td><td>f32</td><td>f32</td><td>f32</td><td>f32</td><td>f32</td><td>f32</td><td>f32</td><td>f32</td><td>f32</td><td>f32</td><td>&hellip;</td><td>f32</td><td>f32</td><td>f32</td><td>f32</td><td>f32</td><td>f32</td><td>f32</td><td>f32</td><td>f32</td><td>f32</td><td>f32</td><td>f32</td><td>f32</td><td>f32</td><td>f32</td><td>f32</td><td>f32</td><td>f32</td><td>f32</td><td>f32</td><td>f32</td><td>f32</td><td>f32</td><td>f32</td><td>f32</td><td>f32</td><td>f32</td><td>f32</td><td>f32</td><td>f32</td><td>f32</td><td>f32</td><td>f32</td><td>f32</td><td>f32</td><td>f32</td><td>f32</td></tr></thead><tbody><tr><td>0</td><td>1</td><td>0.0</td><td>0.0</td><td>0.0</td><td>0.0</td><td>0.0</td><td>0.851033</td><td>0.242971</td><td>0.2634</td><td>-0.891687</td><td>11</td><td>7</td><td>76</td><td>-0.883028</td><td>0.003067</td><td>-0.744703</td><td>0.0</td><td>-0.169586</td><td>0.0</td><td>-1.335938</td><td>-1.707803</td><td>0.91013</td><td>0.0</td><td>1.636431</td><td>1.522133</td><td>-1.551398</td><td>-0.229627</td><td>0.0</td><td>0.0</td><td>1.378301</td><td>-0.283712</td><td>0.123196</td><td>0.0</td><td>0.0</td><td>0.0</td><td>0.28118</td><td>&hellip;</td><td>0.0</td><td>-0.181716</td><td>0.0</td><td>0.0</td><td>0.0</td><td>0.564021</td><td>2.088506</td><td>0.832022</td><td>0.0</td><td>0.204797</td><td>0.0</td><td>0.0</td><td>-0.808103</td><td>0.0</td><td>-2.037683</td><td>0.727661</td><td>0.0</td><td>-0.989118</td><td>-0.345213</td><td>-1.36224</td><td>0.0</td><td>0.0</td><td>0.0</td><td>0.0</td><td>0.0</td><td>-1.251104</td><td>-0.110252</td><td>-0.491157</td><td>-1.02269</td><td>0.152241</td><td>-0.659864</td><td>0.0</td><td>0.0</td><td>-0.261412</td><td>-0.211486</td><td>-0.335556</td><td>-0.281498</td></tr><tr><td>0</td><td>7</td><td>0.0</td><td>0.0</td><td>0.0</td><td>0.0</td><td>0.0</td><td>0.676961</td><td>0.151984</td><td>0.192465</td><td>-0.521729</td><td>11</td><td>7</td><td>76</td><td>-0.865307</td><td>-0.225629</td><td>-0.582163</td><td>0.0</td><td>0.317467</td><td>0.0</td><td>-1.250016</td><td>-1.682929</td><td>1.412757</td><td>0.0</td><td>0.520378</td><td>0.744132</td><td>-0.788658</td><td>0.641776</td><td>0.0</td><td>0.0</td><td>0.2272</td><td>0.580907</td><td>1.128879</td><td>0.0</td><td>0.0</td><td>0.0</td><td>-1.512286</td><td>&hellip;</td><td>0.0</td><td>0.0</td><td>0.0</td><td>0.0</td><td>0.0</td><td>-10.835207</td><td>-0.002704</td><td>-0.621836</td><td>0.0</td><td>1.172836</td><td>0.0</td><td>0.0</td><td>-1.625862</td><td>0.0</td><td>-1.410017</td><td>1.063013</td><td>0.0</td><td>0.888355</td><td>0.467994</td><td>-1.36224</td><td>0.0</td><td>0.0</td><td>0.0</td><td>0.0</td><td>0.0</td><td>-1.065759</td><td>0.013322</td><td>-0.592855</td><td>-1.052685</td><td>-0.393726</td><td>-0.741603</td><td>0.0</td><td>0.0</td><td>-0.281207</td><td>-0.182894</td><td>-0.245565</td><td>-0.302441</td></tr><tr><td>0</td><td>9</td><td>0.0</td><td>0.0</td><td>0.0</td><td>0.0</td><td>0.0</td><td>1.056285</td><td>0.187227</td><td>0.249901</td><td>-0.77305</td><td>11</td><td>7</td><td>76</td><td>-0.675719</td><td>-0.199404</td><td>-0.586798</td><td>0.0</td><td>-0.814909</td><td>0.0</td><td>-1.296782</td><td>-2.040234</td><td>0.639589</td><td>0.0</td><td>1.597359</td><td>0.657514</td><td>-1.350148</td><td>0.364215</td><td>0.0</td><td>0.0</td><td>-0.017751</td><td>-0.317361</td><td>-0.122379</td><td>0.0</td><td>0.0</td><td>0.0</td><td>-0.320921</td><td>&hellip;</td><td>0.0</td><td>0.0</td><td>0.0</td><td>0.0</td><td>0.0</td><td>-1.420632</td><td>-3.515137</td><td>-4.67776</td><td>0.0</td><td>0.535897</td><td>0.0</td><td>0.0</td><td>-0.72542</td><td>0.0</td><td>-2.29417</td><td>1.764551</td><td>0.0</td><td>-0.120789</td><td>-0.063458</td><td>-1.36224</td><td>0.0</td><td>0.0</td><td>0.0</td><td>0.0</td><td>0.0</td><td>-0.882604</td><td>-0.072482</td><td>-0.617934</td><td>-0.86323</td><td>-0.241892</td><td>-0.709919</td><td>0.0</td><td>0.0</td><td>0.377131</td><td>0.300724</td><td>-0.106842</td><td>-0.096792</td></tr><tr><td>0</td><td>10</td><td>0.0</td><td>0.0</td><td>0.0</td><td>0.0</td><td>0.0</td><td>1.139366</td><td>0.273328</td><td>0.306549</td><td>-1.262223</td><td>42</td><td>5</td><td>150</td><td>-0.694008</td><td>3.004091</td><td>0.114809</td><td>0.0</td><td>-0.251882</td><td>0.0</td><td>-1.902009</td><td>-0.979447</td><td>0.241165</td><td>0.0</td><td>-0.392359</td><td>-0.224699</td><td>-2.129397</td><td>-0.855287</td><td>0.0</td><td>0.0</td><td>0.404142</td><td>-0.578156</td><td>0.105702</td><td>0.0</td><td>0.0</td><td>0.0</td><td>0.544138</td><td>&hellip;</td><td>0.0</td><td>0.0</td><td>0.0</td><td>0.0</td><td>0.0</td><td>0.382074</td><td>2.669135</td><td>0.611711</td><td>0.0</td><td>2.413415</td><td>0.0</td><td>0.0</td><td>1.313203</td><td>0.0</td><td>-0.810125</td><td>2.939022</td><td>0.0</td><td>3.988801</td><td>1.834661</td><td>-1.36224</td><td>0.0</td><td>0.0</td><td>0.0</td><td>0.0</td><td>0.0</td><td>-0.697595</td><td>1.074309</td><td>-0.206929</td><td>-0.530602</td><td>4.765215</td><td>0.571554</td><td>0.0</td><td>0.0</td><td>-0.226891</td><td>-0.251412</td><td>-0.215522</td><td>-0.296244</td></tr><tr><td>0</td><td>14</td><td>0.0</td><td>0.0</td><td>0.0</td><td>0.0</td><td>0.0</td><td>0.9552</td><td>0.262404</td><td>0.344457</td><td>-0.613813</td><td>44</td><td>3</td><td>16</td><td>-0.947351</td><td>-0.030018</td><td>-0.502379</td><td>0.0</td><td>0.646086</td><td>0.0</td><td>-1.844685</td><td>-1.58656</td><td>-0.182024</td><td>0.0</td><td>-0.969949</td><td>-0.673813</td><td>-1.282132</td><td>-1.399894</td><td>0.0</td><td>0.0</td><td>0.043815</td><td>-0.320225</td><td>-0.031713</td><td>0.0</td><td>0.0</td><td>0.0</td><td>-0.08842</td><td>&hellip;</td><td>0.0</td><td>0.0</td><td>0.0</td><td>0.0</td><td>0.0</td><td>-2.0146</td><td>-2.321076</td><td>-3.711265</td><td>0.0</td><td>1.253902</td><td>0.0</td><td>0.0</td><td>0.476195</td><td>0.0</td><td>-0.771732</td><td>2.843421</td><td>0.0</td><td>1.379815</td><td>0.411827</td><td>-1.36224</td><td>0.0</td><td>0.0</td><td>0.0</td><td>0.0</td><td>0.0</td><td>-0.948601</td><td>-0.136814</td><td>-0.447704</td><td>-1.141761</td><td>0.099631</td><td>-0.661928</td><td>0.0</td><td>0.0</td><td>3.678076</td><td>2.793581</td><td>2.61825</td><td>3.418133</td></tr><tr><td>0</td><td>16</td><td>0.0</td><td>0.0</td><td>0.0</td><td>0.0</td><td>0.0</td><td>1.092428</td><td>0.241437</td><td>0.309494</td><td>-1.047909</td><td>11</td><td>7</td><td>76</td><td>-0.375681</td><td>0.195831</td><td>-0.408775</td><td>0.0</td><td>0.592456</td><td>0.0</td><td>-0.998185</td><td>-1.444947</td><td>0.748643</td><td>0.0</td><td>0.36953</td><td>0.748203</td><td>-1.476237</td><td>-0.098337</td><td>0.0</td><td>0.0</td><td>0.276082</td><td>0.108393</td><td>0.762983</td><td>0.0</td><td>0.0</td><td>0.0</td><td>0.041396</td><td>&hellip;</td><td>0.0</td><td>0.0</td><td>0.0</td><td>0.0</td><td>0.0</td><td>4.809584</td><td>1.041688</td><td>3.471813</td><td>0.0</td><td>0.781335</td><td>0.0</td><td>0.0</td><td>-0.852696</td><td>0.0</td><td>-1.823927</td><td>1.409013</td><td>0.0</td><td>-1.46437</td><td>-0.784301</td><td>-1.36224</td><td>0.0</td><td>0.0</td><td>0.0</td><td>0.0</td><td>0.0</td><td>-0.81232</td><td>0.501891</td><td>-0.32754</td><td>-0.522513</td><td>-0.163335</td><td>-0.706811</td><td>0.0</td><td>0.0</td><td>-0.272425</td><td>-0.253911</td><td>-0.346411</td><td>-0.189784</td></tr><tr><td>0</td><td>19</td><td>0.0</td><td>0.0</td><td>0.0</td><td>0.0</td><td>0.0</td><td>0.747231</td><td>0.168143</td><td>0.193987</td><td>-0.602202</td><td>4</td><td>3</td><td>11</td><td>-1.062734</td><td>0.795971</td><td>-0.237297</td><td>0.0</td><td>0.388065</td><td>0.0</td><td>-0.913943</td><td>-1.914018</td><td>0.105461</td><td>0.0</td><td>0.946351</td><td>1.344925</td><td>-0.573883</td><td>0.964037</td><td>0.0</td><td>0.0</td><td>-0.616086</td><td>0.142924</td><td>0.266898</td><td>0.0</td><td>0.0</td><td>0.0</td><td>-0.071354</td><td>&hellip;</td><td>0.0</td><td>0.0</td><td>0.0</td><td>0.0</td><td>0.0</td><td>1.070634</td><td>-0.217551</td><td>2.093741</td><td>0.0</td><td>0.881099</td><td>0.0</td><td>0.0</td><td>-2.042819</td><td>0.0</td><td>-1.802318</td><td>1.041058</td><td>0.0</td><td>-1.487282</td><td>-0.671137</td><td>-1.36224</td><td>0.0</td><td>0.0</td><td>0.0</td><td>0.0</td><td>0.0</td><td>-0.77469</td><td>1.127827</td><td>-0.201782</td><td>-0.990042</td><td>1.306702</td><td>-0.356026</td><td>0.0</td><td>0.0</td><td>-0.330015</td><td>-0.249928</td><td>-0.210434</td><td>-0.187166</td></tr><tr><td>0</td><td>33</td><td>0.0</td><td>0.0</td><td>0.0</td><td>0.0</td><td>0.0</td><td>1.182569</td><td>0.206299</td><td>0.253336</td><td>-0.946356</td><td>11</td><td>7</td><td>76</td><td>-0.766347</td><td>-0.406701</td><td>-1.033553</td><td>0.0</td><td>1.628502</td><td>0.0</td><td>-1.145392</td><td>-1.682898</td><td>0.679352</td><td>0.0</td><td>0.767303</td><td>0.740793</td><td>-1.215067</td><td>-1.124142</td><td>0.0</td><td>0.0</td><td>-0.46222</td><td>0.263958</td><td>1.038144</td><td>0.0</td><td>0.0</td><td>0.0</td><td>-0.222309</td><td>&hellip;</td><td>0.0</td><td>0.0</td><td>0.0</td><td>0.0</td><td>0.0</td><td>0.927966</td><td>1.264635</td><td>1.45311</td><td>0.0</td><td>1.122132</td><td>0.0</td><td>0.0</td><td>-1.721597</td><td>0.0</td><td>-0.916624</td><td>1.604584</td><td>0.0</td><td>1.223971</td><td>0.653575</td><td>-1.36224</td><td>0.0</td><td>0.0</td><td>0.0</td><td>0.0</td><td>0.0</td><td>-0.856799</td><td>-0.313983</td><td>-0.510727</td><td>-0.710232</td><td>-0.222114</td><td>-0.823108</td><td>0.0</td><td>0.0</td><td>-0.347611</td><td>-0.286403</td><td>-0.399971</td><td>-0.171215</td></tr><tr><td>1</td><td>1</td><td>0.0</td><td>0.0</td><td>0.0</td><td>0.0</td><td>0.0</td><td>0.917613</td><td>-0.401377</td><td>0.066465</td><td>-0.724457</td><td>11</td><td>7</td><td>76</td><td>-0.754305</td><td>-0.010117</td><td>-0.589252</td><td>0.0</td><td>-0.2128</td><td>0.0</td><td>-1.07089</td><td>-1.121607</td><td>0.91013</td><td>0.0</td><td>1.636431</td><td>1.522133</td><td>-1.551398</td><td>-0.229627</td><td>0.0</td><td>0.0</td><td>1.378301</td><td>-0.283712</td><td>0.123196</td><td>0.0</td><td>0.0</td><td>0.0</td><td>0.303496</td><td>&hellip;</td><td>0.0</td><td>-0.244077</td><td>0.0</td><td>0.0</td><td>0.0</td><td>0.452334</td><td>1.012832</td><td>0.762938</td><td>0.0</td><td>0.041353</td><td>0.0</td><td>0.0</td><td>-1.055839</td><td>0.0</td><td>-1.715698</td><td>1.856922</td><td>0.0</td><td>-0.352075</td><td>-0.250698</td><td>-1.36224</td><td>0.0</td><td>0.0</td><td>0.0</td><td>0.0</td><td>0.0</td><td>-0.766033</td><td>-0.177765</td><td>-0.470256</td><td>-1.287999</td><td>0.196725</td><td>-0.319822</td><td>0.0</td><td>0.0</td><td>-0.211037</td><td>-0.235291</td><td>-0.269429</td><td>-0.301006</td></tr><tr><td>1</td><td>7</td><td>0.0</td><td>0.0</td><td>0.0</td><td>0.0</td><td>0.0</td><td>0.877172</td><td>-0.254713</td><td>0.04721</td><td>-0.673954</td><td>11</td><td>7</td><td>76</td><td>-1.070783</td><td>0.749826</td><td>-0.530852</td><td>0.0</td><td>1.098499</td><td>0.0</td><td>-1.333668</td><td>-1.410048</td><td>1.412757</td><td>0.0</td><td>0.520378</td><td>0.744132</td><td>-0.788658</td><td>0.641776</td><td>0.0</td><td>0.0</td><td>0.2272</td><td>0.580907</td><td>1.128879</td><td>0.0</td><td>0.0</td><td>0.0</td><td>-1.831976</td><td>&hellip;</td><td>0.0</td><td>0.0</td><td>0.0</td><td>0.0</td><td>0.0</td><td>-7.63369</td><td>-0.004959</td><td>-0.497161</td><td>0.0</td><td>-0.064571</td><td>0.0</td><td>0.0</td><td>-0.938621</td><td>0.0</td><td>-2.335762</td><td>1.684062</td><td>0.0</td><td>-0.049584</td><td>0.194288</td><td>-1.36224</td><td>0.0</td><td>0.0</td><td>0.0</td><td>0.0</td><td>0.0</td><td>-0.974702</td><td>1.749538</td><td>-0.214511</td><td>-0.965937</td><td>-0.192011</td><td>-0.498838</td><td>0.0</td><td>0.0</td><td>-0.293913</td><td>-0.240564</td><td>-0.208652</td><td>-0.294585</td></tr></tbody></table></div>"
      ],
      "text/plain": [
       "shape: (10, 81)\n",
       "┌─────────┬───────────┬────────────┬───────────┬───┬───────────┬───────────┬───────────┬───────────┐\n",
       "│ time_id ┆ symbol_id ┆ feature_00 ┆ feature_0 ┆ … ┆ feature_7 ┆ feature_7 ┆ feature_7 ┆ feature_7 │\n",
       "│ ---     ┆ ---       ┆ ---        ┆ 1         ┆   ┆ 5         ┆ 6         ┆ 7         ┆ 8         │\n",
       "│ i16     ┆ i8        ┆ f32        ┆ ---       ┆   ┆ ---       ┆ ---       ┆ ---       ┆ ---       │\n",
       "│         ┆           ┆            ┆ f32       ┆   ┆ f32       ┆ f32       ┆ f32       ┆ f32       │\n",
       "╞═════════╪═══════════╪════════════╪═══════════╪═══╪═══════════╪═══════════╪═══════════╪═══════════╡\n",
       "│ 0       ┆ 1         ┆ 0.0        ┆ 0.0       ┆ … ┆ -0.261412 ┆ -0.211486 ┆ -0.335556 ┆ -0.281498 │\n",
       "│ 0       ┆ 7         ┆ 0.0        ┆ 0.0       ┆ … ┆ -0.281207 ┆ -0.182894 ┆ -0.245565 ┆ -0.302441 │\n",
       "│ 0       ┆ 9         ┆ 0.0        ┆ 0.0       ┆ … ┆ 0.377131  ┆ 0.300724  ┆ -0.106842 ┆ -0.096792 │\n",
       "│ 0       ┆ 10        ┆ 0.0        ┆ 0.0       ┆ … ┆ -0.226891 ┆ -0.251412 ┆ -0.215522 ┆ -0.296244 │\n",
       "│ 0       ┆ 14        ┆ 0.0        ┆ 0.0       ┆ … ┆ 3.678076  ┆ 2.793581  ┆ 2.61825   ┆ 3.418133  │\n",
       "│ 0       ┆ 16        ┆ 0.0        ┆ 0.0       ┆ … ┆ -0.272425 ┆ -0.253911 ┆ -0.346411 ┆ -0.189784 │\n",
       "│ 0       ┆ 19        ┆ 0.0        ┆ 0.0       ┆ … ┆ -0.330015 ┆ -0.249928 ┆ -0.210434 ┆ -0.187166 │\n",
       "│ 0       ┆ 33        ┆ 0.0        ┆ 0.0       ┆ … ┆ -0.347611 ┆ -0.286403 ┆ -0.399971 ┆ -0.171215 │\n",
       "│ 1       ┆ 1         ┆ 0.0        ┆ 0.0       ┆ … ┆ -0.211037 ┆ -0.235291 ┆ -0.269429 ┆ -0.301006 │\n",
       "│ 1       ┆ 7         ┆ 0.0        ┆ 0.0       ┆ … ┆ -0.293913 ┆ -0.240564 ┆ -0.208652 ┆ -0.294585 │\n",
       "└─────────┴───────────┴────────────┴───────────┴───┴───────────┴───────────┴───────────┴───────────┘"
      ]
     },
     "execution_count": 7,
     "metadata": {},
     "output_type": "execute_result"
    }
   ],
   "source": [
    "# subset with only features\n",
    "training_data_subset = training_data.select([col for col in training_data.columns if col in train_feature_list])\n",
    "training_data_subset.head(10)"
   ]
  },
  {
   "cell_type": "code",
   "execution_count": 8,
   "metadata": {},
   "outputs": [],
   "source": [
    "training_data_loader = lgb.Dataset(training_data_subset, label=training_data.select(pl.col(\"responder_6\")).to_numpy(), weight=training_data.select(pl.col(\"weight\")).to_numpy())"
   ]
  },
  {
   "cell_type": "markdown",
   "metadata": {},
   "source": [
    "# Customize the loss function"
   ]
  },
  {
   "cell_type": "code",
   "execution_count": 9,
   "metadata": {},
   "outputs": [],
   "source": [
    "def zero_mean_r2_objective(pred, train):\n",
    "    \"\"\"\n",
    "    Custom zero-mean R-squared objective for LightGBM.\n",
    "\n",
    "    Args:\n",
    "        y_true: Array of true values.\n",
    "        y_pred: Array of predicted values.\n",
    "        weight: Array of sample weights.\n",
    "\n",
    "    Returns:\n",
    "        grad: Gradient.\n",
    "        hess: Hessian.\n",
    "    \"\"\"\n",
    "\n",
    "    # Ensure weights are valid\n",
    "    weight = train.get_weight() if train.get_weight() is not None else np.ones_like(pred)\n",
    "    \n",
    "    # Gradient (negative derivative of the loss)\n",
    "    grad = -2 * weight * (train.get_label() - pred)\n",
    "    \n",
    "    # Hessian (second derivative of the loss)\n",
    "    hess = 2 * weight\n",
    "    \n",
    "    return grad, hess"
   ]
  },
  {
   "cell_type": "markdown",
   "metadata": {},
   "source": [
    "## Train LightGBM model to predict responder 6"
   ]
  },
  {
   "cell_type": "code",
   "execution_count": 10,
   "metadata": {},
   "outputs": [],
   "source": [
    "# Set parameters for LightGBM\n",
    "# params = {\n",
    "#     'objective': 'regression',\n",
    "#     'metric': 'rmse',\n",
    "#     'boosting_type': 'gbdt',\n",
    "#     'num_leaves': 31,\n",
    "#     'learning_rate': 0.05,\n",
    "#     'feature_fraction': 0.9\n",
    "# }\n",
    "\n",
    "params = {\n",
    "    \"objective\": zero_mean_r2_objective,  # Disable default objectives\n",
    "    \"metric\": \"None\",     # Disable default metrics\n",
    "    'boosting_type': 'gbdt',\n",
    "    'num_leaves': 62,\n",
    "    'learning_rate': 0.05,\n",
    "    'feature_fraction': 0.9,\n",
    "}"
   ]
  },
  {
   "cell_type": "code",
   "execution_count": 12,
   "metadata": {},
   "outputs": [
    {
     "name": "stderr",
     "output_type": "stream",
     "text": [
      "/home/yang/.pyenv/versions/3.12.4/lib/python3.12/site-packages/lightgbm/basic.py:357: UserWarning: Converting column-vector to 1d array\n",
      "  _log_warning(\"Converting column-vector to 1d array\")\n"
     ]
    },
    {
     "name": "stdout",
     "output_type": "stream",
     "text": [
      "[LightGBM] [Info] Using self-defined objective function\n",
      "[LightGBM] [Info] Auto-choosing col-wise multi-threading, the overhead of testing was 0.198448 seconds.\n",
      "You can set `force_col_wise=true` to remove the overhead.\n",
      "[LightGBM] [Info] Total Bins 17308\n",
      "[LightGBM] [Info] Number of data points in the train set: 1944210, number of used features: 72\n",
      "[LightGBM] [Info] Using self-defined objective function\n"
     ]
    }
   ],
   "source": [
    "# Train with custom objective and evaluation metric\n",
    "model = lgb.train(\n",
    "    params,\n",
    "    training_data_loader,\n",
    "    #valid_sets=[data],  # Add validation sets if available\n",
    "    #feval=zero_mean_r2_score,  # Optional: include the custom metric for evaluation\n",
    "    num_boost_round=1000,\n",
    "    #early_stopping_rounds=10,\n",
    ")"
   ]
  },
  {
   "cell_type": "code",
   "execution_count": 13,
   "metadata": {},
   "outputs": [
    {
     "data": {
      "text/plain": [
       "<lightgbm.basic.Booster at 0x7f252277f5c0>"
      ]
     },
     "execution_count": 13,
     "metadata": {},
     "output_type": "execute_result"
    }
   ],
   "source": [
    "model.save_model('jane_lgbm_null_to_0_custom_loss.txt')"
   ]
  },
  {
   "cell_type": "markdown",
   "metadata": {},
   "source": [
    "## Model evaluation"
   ]
  },
  {
   "cell_type": "code",
   "execution_count": 14,
   "metadata": {},
   "outputs": [
    {
     "data": {
      "text/html": [
       "<div><style>\n",
       ".dataframe > thead > tr,\n",
       ".dataframe > tbody > tr {\n",
       "  text-align: right;\n",
       "  white-space: pre-wrap;\n",
       "}\n",
       "</style>\n",
       "<small>shape: (5, 85)</small><table border=\"1\" class=\"dataframe\"><thead><tr><th>row_id</th><th>date_id</th><th>time_id</th><th>symbol_id</th><th>weight</th><th>is_scored</th><th>feature_00</th><th>feature_01</th><th>feature_02</th><th>feature_03</th><th>feature_04</th><th>feature_05</th><th>feature_06</th><th>feature_07</th><th>feature_08</th><th>feature_09</th><th>feature_10</th><th>feature_11</th><th>feature_12</th><th>feature_13</th><th>feature_14</th><th>feature_15</th><th>feature_16</th><th>feature_17</th><th>feature_18</th><th>feature_19</th><th>feature_20</th><th>feature_21</th><th>feature_22</th><th>feature_23</th><th>feature_24</th><th>feature_25</th><th>feature_26</th><th>feature_27</th><th>feature_28</th><th>feature_29</th><th>feature_30</th><th>&hellip;</th><th>feature_42</th><th>feature_43</th><th>feature_44</th><th>feature_45</th><th>feature_46</th><th>feature_47</th><th>feature_48</th><th>feature_49</th><th>feature_50</th><th>feature_51</th><th>feature_52</th><th>feature_53</th><th>feature_54</th><th>feature_55</th><th>feature_56</th><th>feature_57</th><th>feature_58</th><th>feature_59</th><th>feature_60</th><th>feature_61</th><th>feature_62</th><th>feature_63</th><th>feature_64</th><th>feature_65</th><th>feature_66</th><th>feature_67</th><th>feature_68</th><th>feature_69</th><th>feature_70</th><th>feature_71</th><th>feature_72</th><th>feature_73</th><th>feature_74</th><th>feature_75</th><th>feature_76</th><th>feature_77</th><th>feature_78</th></tr><tr><td>i64</td><td>i16</td><td>i16</td><td>i8</td><td>f32</td><td>bool</td><td>f32</td><td>f32</td><td>f32</td><td>f32</td><td>f32</td><td>f32</td><td>f32</td><td>f32</td><td>f32</td><td>f64</td><td>f64</td><td>f64</td><td>f32</td><td>f32</td><td>f32</td><td>f32</td><td>f32</td><td>f32</td><td>f32</td><td>f32</td><td>f32</td><td>f32</td><td>f32</td><td>f32</td><td>f32</td><td>f32</td><td>f32</td><td>f32</td><td>f32</td><td>f32</td><td>f32</td><td>&hellip;</td><td>f32</td><td>f32</td><td>f32</td><td>f32</td><td>f32</td><td>f32</td><td>f32</td><td>f32</td><td>f32</td><td>f32</td><td>f32</td><td>f32</td><td>f32</td><td>f32</td><td>f32</td><td>f32</td><td>f32</td><td>f32</td><td>f32</td><td>f32</td><td>f32</td><td>f32</td><td>f32</td><td>f32</td><td>f32</td><td>f32</td><td>f32</td><td>f32</td><td>f32</td><td>f32</td><td>f32</td><td>f32</td><td>f32</td><td>f32</td><td>f32</td><td>f32</td><td>f32</td></tr></thead><tbody><tr><td>0</td><td>0</td><td>0</td><td>0</td><td>3.169998</td><td>true</td><td>0.0</td><td>0.0</td><td>0.0</td><td>0.0</td><td>0.0</td><td>-0.0</td><td>-0.0</td><td>-0.0</td><td>0.0</td><td>0.0</td><td>0.0</td><td>0.0</td><td>-0.0</td><td>0.0</td><td>0.0</td><td>null</td><td>-0.0</td><td>null</td><td>-0.0</td><td>-0.0</td><td>0.0</td><td>-0.0</td><td>0.0</td><td>0.0</td><td>0.0</td><td>0.0</td><td>0.0</td><td>0.0</td><td>0.0</td><td>-0.0</td><td>-0.0</td><td>&hellip;</td><td>null</td><td>-0.0</td><td>null</td><td>-0.0</td><td>0.0</td><td>-0.0</td><td>0.0</td><td>0.0</td><td>null</td><td>0.0</td><td>null</td><td>null</td><td>-0.0</td><td>null</td><td>-0.0</td><td>0.0</td><td>null</td><td>0.0</td><td>0.0</td><td>-0.0</td><td>-0.0</td><td>-0.0</td><td>-0.0</td><td>-0.0</td><td>-0.0</td><td>-0.0</td><td>0.0</td><td>-0.0</td><td>-0.0</td><td>0.0</td><td>0.0</td><td>null</td><td>null</td><td>0.0</td><td>0.0</td><td>-0.0</td><td>-0.0</td></tr><tr><td>1</td><td>0</td><td>0</td><td>1</td><td>2.165993</td><td>true</td><td>0.0</td><td>-0.0</td><td>0.0</td><td>0.0</td><td>0.0</td><td>-0.0</td><td>-0.0</td><td>-0.0</td><td>0.0</td><td>0.0</td><td>0.0</td><td>0.0</td><td>-0.0</td><td>0.0</td><td>-0.0</td><td>null</td><td>-0.0</td><td>null</td><td>-0.0</td><td>-0.0</td><td>0.0</td><td>-0.0</td><td>0.0</td><td>0.0</td><td>0.0</td><td>0.0</td><td>-0.0</td><td>0.0</td><td>0.0</td><td>-0.0</td><td>-0.0</td><td>&hellip;</td><td>null</td><td>-0.0</td><td>null</td><td>-0.0</td><td>0.0</td><td>0.0</td><td>0.0</td><td>0.0</td><td>null</td><td>0.0</td><td>null</td><td>null</td><td>-0.0</td><td>null</td><td>-0.0</td><td>0.0</td><td>null</td><td>0.0</td><td>0.0</td><td>-0.0</td><td>-0.0</td><td>-0.0</td><td>-0.0</td><td>-0.0</td><td>-0.0</td><td>-0.0</td><td>0.0</td><td>-0.0</td><td>-0.0</td><td>0.0</td><td>-0.0</td><td>null</td><td>null</td><td>0.0</td><td>0.0</td><td>0.0</td><td>0.0</td></tr><tr><td>2</td><td>0</td><td>0</td><td>2</td><td>3.06555</td><td>true</td><td>0.0</td><td>-0.0</td><td>0.0</td><td>0.0</td><td>0.0</td><td>-0.0</td><td>-0.0</td><td>-0.0</td><td>0.0</td><td>0.0</td><td>0.0</td><td>0.0</td><td>-0.0</td><td>0.0</td><td>0.0</td><td>null</td><td>-0.0</td><td>null</td><td>-0.0</td><td>-0.0</td><td>0.0</td><td>-0.0</td><td>0.0</td><td>0.0</td><td>0.0</td><td>-0.0</td><td>0.0</td><td>0.0</td><td>0.0</td><td>-0.0</td><td>-0.0</td><td>&hellip;</td><td>null</td><td>-0.0</td><td>null</td><td>-0.0</td><td>0.0</td><td>-0.0</td><td>-0.0</td><td>-0.0</td><td>null</td><td>0.0</td><td>null</td><td>null</td><td>-0.0</td><td>null</td><td>-0.0</td><td>0.0</td><td>null</td><td>-0.0</td><td>-0.0</td><td>-0.0</td><td>0.0</td><td>-0.0</td><td>-0.0</td><td>-0.0</td><td>-0.0</td><td>-0.0</td><td>0.0</td><td>0.0</td><td>-0.0</td><td>0.0</td><td>0.0</td><td>null</td><td>null</td><td>0.0</td><td>0.0</td><td>-0.0</td><td>-0.0</td></tr><tr><td>3</td><td>0</td><td>0</td><td>3</td><td>2.698642</td><td>true</td><td>0.0</td><td>0.0</td><td>0.0</td><td>0.0</td><td>0.0</td><td>-0.0</td><td>-0.0</td><td>-0.0</td><td>0.0</td><td>0.0</td><td>0.0</td><td>0.0</td><td>-0.0</td><td>0.0</td><td>0.0</td><td>null</td><td>-0.0</td><td>null</td><td>-0.0</td><td>-0.0</td><td>-0.0</td><td>-0.0</td><td>0.0</td><td>0.0</td><td>-0.0</td><td>-0.0</td><td>-0.0</td><td>-0.0</td><td>-0.0</td><td>-0.0</td><td>-0.0</td><td>&hellip;</td><td>null</td><td>-0.0</td><td>null</td><td>-0.0</td><td>0.0</td><td>-0.0</td><td>0.0</td><td>-0.0</td><td>null</td><td>-0.0</td><td>null</td><td>null</td><td>-0.0</td><td>null</td><td>-0.0</td><td>0.0</td><td>null</td><td>-0.0</td><td>-0.0</td><td>-0.0</td><td>-0.0</td><td>-0.0</td><td>-0.0</td><td>-0.0</td><td>-0.0</td><td>-0.0</td><td>0.0</td><td>0.0</td><td>-0.0</td><td>0.0</td><td>0.0</td><td>null</td><td>null</td><td>0.0</td><td>0.0</td><td>-0.0</td><td>-0.0</td></tr><tr><td>4</td><td>0</td><td>0</td><td>4</td><td>1.80333</td><td>true</td><td>0.0</td><td>-0.0</td><td>0.0</td><td>0.0</td><td>0.0</td><td>-0.0</td><td>-0.0</td><td>-0.0</td><td>0.0</td><td>0.0</td><td>0.0</td><td>0.0</td><td>-0.0</td><td>0.0</td><td>-0.0</td><td>null</td><td>-0.0</td><td>null</td><td>-0.0</td><td>-0.0</td><td>-0.0</td><td>0.0</td><td>0.0</td><td>0.0</td><td>0.0</td><td>0.0</td><td>-0.0</td><td>-0.0</td><td>-0.0</td><td>-0.0</td><td>-0.0</td><td>&hellip;</td><td>null</td><td>-0.0</td><td>null</td><td>-0.0</td><td>0.0</td><td>0.0</td><td>0.0</td><td>0.0</td><td>null</td><td>0.0</td><td>null</td><td>null</td><td>-0.0</td><td>null</td><td>-0.0</td><td>0.0</td><td>null</td><td>-0.0</td><td>-0.0</td><td>-0.0</td><td>-0.0</td><td>-0.0</td><td>-0.0</td><td>-0.0</td><td>-0.0</td><td>-0.0</td><td>0.0</td><td>-0.0</td><td>-0.0</td><td>0.0</td><td>-0.0</td><td>null</td><td>null</td><td>0.0</td><td>0.0</td><td>0.0</td><td>0.0</td></tr></tbody></table></div>"
      ],
      "text/plain": [
       "shape: (5, 85)\n",
       "┌────────┬─────────┬─────────┬───────────┬───┬────────────┬────────────┬────────────┬────────────┐\n",
       "│ row_id ┆ date_id ┆ time_id ┆ symbol_id ┆ … ┆ feature_75 ┆ feature_76 ┆ feature_77 ┆ feature_78 │\n",
       "│ ---    ┆ ---     ┆ ---     ┆ ---       ┆   ┆ ---        ┆ ---        ┆ ---        ┆ ---        │\n",
       "│ i64    ┆ i16     ┆ i16     ┆ i8        ┆   ┆ f32        ┆ f32        ┆ f32        ┆ f32        │\n",
       "╞════════╪═════════╪═════════╪═══════════╪═══╪════════════╪════════════╪════════════╪════════════╡\n",
       "│ 0      ┆ 0       ┆ 0       ┆ 0         ┆ … ┆ 0.0        ┆ 0.0        ┆ -0.0       ┆ -0.0       │\n",
       "│ 1      ┆ 0       ┆ 0       ┆ 1         ┆ … ┆ 0.0        ┆ 0.0        ┆ 0.0        ┆ 0.0        │\n",
       "│ 2      ┆ 0       ┆ 0       ┆ 2         ┆ … ┆ 0.0        ┆ 0.0        ┆ -0.0       ┆ -0.0       │\n",
       "│ 3      ┆ 0       ┆ 0       ┆ 3         ┆ … ┆ 0.0        ┆ 0.0        ┆ -0.0       ┆ -0.0       │\n",
       "│ 4      ┆ 0       ┆ 0       ┆ 4         ┆ … ┆ 0.0        ┆ 0.0        ┆ 0.0        ┆ 0.0        │\n",
       "└────────┴─────────┴─────────┴───────────┴───┴────────────┴────────────┴────────────┴────────────┘"
      ]
     },
     "execution_count": 14,
     "metadata": {},
     "output_type": "execute_result"
    }
   ],
   "source": [
    "# load example test data\n",
    "test_data = pl.read_parquet(Path(data_path, \"test.parquet\", \"date_id=0\", \"part-0.parquet\"))\n",
    "test_data.head(5)"
   ]
  },
  {
   "cell_type": "code",
   "execution_count": 15,
   "metadata": {},
   "outputs": [
    {
     "data": {
      "text/html": [
       "<div><style>\n",
       ".dataframe > thead > tr,\n",
       ".dataframe > tbody > tr {\n",
       "  text-align: right;\n",
       "  white-space: pre-wrap;\n",
       "}\n",
       "</style>\n",
       "<small>shape: (5, 81)</small><table border=\"1\" class=\"dataframe\"><thead><tr><th>time_id</th><th>symbol_id</th><th>feature_00</th><th>feature_01</th><th>feature_02</th><th>feature_03</th><th>feature_04</th><th>feature_05</th><th>feature_06</th><th>feature_07</th><th>feature_08</th><th>feature_09</th><th>feature_10</th><th>feature_11</th><th>feature_12</th><th>feature_13</th><th>feature_14</th><th>feature_15</th><th>feature_16</th><th>feature_17</th><th>feature_18</th><th>feature_19</th><th>feature_20</th><th>feature_21</th><th>feature_22</th><th>feature_23</th><th>feature_24</th><th>feature_25</th><th>feature_26</th><th>feature_27</th><th>feature_28</th><th>feature_29</th><th>feature_30</th><th>feature_31</th><th>feature_32</th><th>feature_33</th><th>feature_34</th><th>&hellip;</th><th>feature_42</th><th>feature_43</th><th>feature_44</th><th>feature_45</th><th>feature_46</th><th>feature_47</th><th>feature_48</th><th>feature_49</th><th>feature_50</th><th>feature_51</th><th>feature_52</th><th>feature_53</th><th>feature_54</th><th>feature_55</th><th>feature_56</th><th>feature_57</th><th>feature_58</th><th>feature_59</th><th>feature_60</th><th>feature_61</th><th>feature_62</th><th>feature_63</th><th>feature_64</th><th>feature_65</th><th>feature_66</th><th>feature_67</th><th>feature_68</th><th>feature_69</th><th>feature_70</th><th>feature_71</th><th>feature_72</th><th>feature_73</th><th>feature_74</th><th>feature_75</th><th>feature_76</th><th>feature_77</th><th>feature_78</th></tr><tr><td>i16</td><td>i8</td><td>f32</td><td>f32</td><td>f32</td><td>f32</td><td>f32</td><td>f32</td><td>f32</td><td>f32</td><td>f32</td><td>f64</td><td>f64</td><td>f64</td><td>f32</td><td>f32</td><td>f32</td><td>f32</td><td>f32</td><td>f32</td><td>f32</td><td>f32</td><td>f32</td><td>f32</td><td>f32</td><td>f32</td><td>f32</td><td>f32</td><td>f32</td><td>f32</td><td>f32</td><td>f32</td><td>f32</td><td>f32</td><td>f32</td><td>f32</td><td>f32</td><td>&hellip;</td><td>f32</td><td>f32</td><td>f32</td><td>f32</td><td>f32</td><td>f32</td><td>f32</td><td>f32</td><td>f32</td><td>f32</td><td>f32</td><td>f32</td><td>f32</td><td>f32</td><td>f32</td><td>f32</td><td>f32</td><td>f32</td><td>f32</td><td>f32</td><td>f32</td><td>f32</td><td>f32</td><td>f32</td><td>f32</td><td>f32</td><td>f32</td><td>f32</td><td>f32</td><td>f32</td><td>f32</td><td>f32</td><td>f32</td><td>f32</td><td>f32</td><td>f32</td><td>f32</td></tr></thead><tbody><tr><td>0</td><td>0</td><td>0.0</td><td>0.0</td><td>0.0</td><td>0.0</td><td>0.0</td><td>-0.0</td><td>-0.0</td><td>-0.0</td><td>0.0</td><td>0.0</td><td>0.0</td><td>0.0</td><td>-0.0</td><td>0.0</td><td>0.0</td><td>null</td><td>-0.0</td><td>null</td><td>-0.0</td><td>-0.0</td><td>0.0</td><td>-0.0</td><td>0.0</td><td>0.0</td><td>0.0</td><td>0.0</td><td>0.0</td><td>0.0</td><td>0.0</td><td>-0.0</td><td>-0.0</td><td>-0.0</td><td>null</td><td>null</td><td>0.0</td><td>&hellip;</td><td>null</td><td>-0.0</td><td>null</td><td>-0.0</td><td>0.0</td><td>-0.0</td><td>0.0</td><td>0.0</td><td>null</td><td>0.0</td><td>null</td><td>null</td><td>-0.0</td><td>null</td><td>-0.0</td><td>0.0</td><td>null</td><td>0.0</td><td>0.0</td><td>-0.0</td><td>-0.0</td><td>-0.0</td><td>-0.0</td><td>-0.0</td><td>-0.0</td><td>-0.0</td><td>0.0</td><td>-0.0</td><td>-0.0</td><td>0.0</td><td>0.0</td><td>null</td><td>null</td><td>0.0</td><td>0.0</td><td>-0.0</td><td>-0.0</td></tr><tr><td>0</td><td>1</td><td>0.0</td><td>-0.0</td><td>0.0</td><td>0.0</td><td>0.0</td><td>-0.0</td><td>-0.0</td><td>-0.0</td><td>0.0</td><td>0.0</td><td>0.0</td><td>0.0</td><td>-0.0</td><td>0.0</td><td>-0.0</td><td>null</td><td>-0.0</td><td>null</td><td>-0.0</td><td>-0.0</td><td>0.0</td><td>-0.0</td><td>0.0</td><td>0.0</td><td>0.0</td><td>0.0</td><td>-0.0</td><td>0.0</td><td>0.0</td><td>-0.0</td><td>-0.0</td><td>-0.0</td><td>null</td><td>null</td><td>0.0</td><td>&hellip;</td><td>null</td><td>-0.0</td><td>null</td><td>-0.0</td><td>0.0</td><td>0.0</td><td>0.0</td><td>0.0</td><td>null</td><td>0.0</td><td>null</td><td>null</td><td>-0.0</td><td>null</td><td>-0.0</td><td>0.0</td><td>null</td><td>0.0</td><td>0.0</td><td>-0.0</td><td>-0.0</td><td>-0.0</td><td>-0.0</td><td>-0.0</td><td>-0.0</td><td>-0.0</td><td>0.0</td><td>-0.0</td><td>-0.0</td><td>0.0</td><td>-0.0</td><td>null</td><td>null</td><td>0.0</td><td>0.0</td><td>0.0</td><td>0.0</td></tr><tr><td>0</td><td>2</td><td>0.0</td><td>-0.0</td><td>0.0</td><td>0.0</td><td>0.0</td><td>-0.0</td><td>-0.0</td><td>-0.0</td><td>0.0</td><td>0.0</td><td>0.0</td><td>0.0</td><td>-0.0</td><td>0.0</td><td>0.0</td><td>null</td><td>-0.0</td><td>null</td><td>-0.0</td><td>-0.0</td><td>0.0</td><td>-0.0</td><td>0.0</td><td>0.0</td><td>0.0</td><td>-0.0</td><td>0.0</td><td>0.0</td><td>0.0</td><td>-0.0</td><td>-0.0</td><td>-0.0</td><td>null</td><td>null</td><td>0.0</td><td>&hellip;</td><td>null</td><td>-0.0</td><td>null</td><td>-0.0</td><td>0.0</td><td>-0.0</td><td>-0.0</td><td>-0.0</td><td>null</td><td>0.0</td><td>null</td><td>null</td><td>-0.0</td><td>null</td><td>-0.0</td><td>0.0</td><td>null</td><td>-0.0</td><td>-0.0</td><td>-0.0</td><td>0.0</td><td>-0.0</td><td>-0.0</td><td>-0.0</td><td>-0.0</td><td>-0.0</td><td>0.0</td><td>0.0</td><td>-0.0</td><td>0.0</td><td>0.0</td><td>null</td><td>null</td><td>0.0</td><td>0.0</td><td>-0.0</td><td>-0.0</td></tr><tr><td>0</td><td>3</td><td>0.0</td><td>0.0</td><td>0.0</td><td>0.0</td><td>0.0</td><td>-0.0</td><td>-0.0</td><td>-0.0</td><td>0.0</td><td>0.0</td><td>0.0</td><td>0.0</td><td>-0.0</td><td>0.0</td><td>0.0</td><td>null</td><td>-0.0</td><td>null</td><td>-0.0</td><td>-0.0</td><td>-0.0</td><td>-0.0</td><td>0.0</td><td>0.0</td><td>-0.0</td><td>-0.0</td><td>-0.0</td><td>-0.0</td><td>-0.0</td><td>-0.0</td><td>-0.0</td><td>-0.0</td><td>null</td><td>null</td><td>0.0</td><td>&hellip;</td><td>null</td><td>-0.0</td><td>null</td><td>-0.0</td><td>0.0</td><td>-0.0</td><td>0.0</td><td>-0.0</td><td>null</td><td>-0.0</td><td>null</td><td>null</td><td>-0.0</td><td>null</td><td>-0.0</td><td>0.0</td><td>null</td><td>-0.0</td><td>-0.0</td><td>-0.0</td><td>-0.0</td><td>-0.0</td><td>-0.0</td><td>-0.0</td><td>-0.0</td><td>-0.0</td><td>0.0</td><td>0.0</td><td>-0.0</td><td>0.0</td><td>0.0</td><td>null</td><td>null</td><td>0.0</td><td>0.0</td><td>-0.0</td><td>-0.0</td></tr><tr><td>0</td><td>4</td><td>0.0</td><td>-0.0</td><td>0.0</td><td>0.0</td><td>0.0</td><td>-0.0</td><td>-0.0</td><td>-0.0</td><td>0.0</td><td>0.0</td><td>0.0</td><td>0.0</td><td>-0.0</td><td>0.0</td><td>-0.0</td><td>null</td><td>-0.0</td><td>null</td><td>-0.0</td><td>-0.0</td><td>-0.0</td><td>0.0</td><td>0.0</td><td>0.0</td><td>0.0</td><td>0.0</td><td>-0.0</td><td>-0.0</td><td>-0.0</td><td>-0.0</td><td>-0.0</td><td>0.0</td><td>null</td><td>null</td><td>0.0</td><td>&hellip;</td><td>null</td><td>-0.0</td><td>null</td><td>-0.0</td><td>0.0</td><td>0.0</td><td>0.0</td><td>0.0</td><td>null</td><td>0.0</td><td>null</td><td>null</td><td>-0.0</td><td>null</td><td>-0.0</td><td>0.0</td><td>null</td><td>-0.0</td><td>-0.0</td><td>-0.0</td><td>-0.0</td><td>-0.0</td><td>-0.0</td><td>-0.0</td><td>-0.0</td><td>-0.0</td><td>0.0</td><td>-0.0</td><td>-0.0</td><td>0.0</td><td>-0.0</td><td>null</td><td>null</td><td>0.0</td><td>0.0</td><td>0.0</td><td>0.0</td></tr></tbody></table></div>"
      ],
      "text/plain": [
       "shape: (5, 81)\n",
       "┌─────────┬───────────┬────────────┬───────────┬───┬───────────┬───────────┬───────────┬───────────┐\n",
       "│ time_id ┆ symbol_id ┆ feature_00 ┆ feature_0 ┆ … ┆ feature_7 ┆ feature_7 ┆ feature_7 ┆ feature_7 │\n",
       "│ ---     ┆ ---       ┆ ---        ┆ 1         ┆   ┆ 5         ┆ 6         ┆ 7         ┆ 8         │\n",
       "│ i16     ┆ i8        ┆ f32        ┆ ---       ┆   ┆ ---       ┆ ---       ┆ ---       ┆ ---       │\n",
       "│         ┆           ┆            ┆ f32       ┆   ┆ f32       ┆ f32       ┆ f32       ┆ f32       │\n",
       "╞═════════╪═══════════╪════════════╪═══════════╪═══╪═══════════╪═══════════╪═══════════╪═══════════╡\n",
       "│ 0       ┆ 0         ┆ 0.0        ┆ 0.0       ┆ … ┆ 0.0       ┆ 0.0       ┆ -0.0      ┆ -0.0      │\n",
       "│ 0       ┆ 1         ┆ 0.0        ┆ -0.0      ┆ … ┆ 0.0       ┆ 0.0       ┆ 0.0       ┆ 0.0       │\n",
       "│ 0       ┆ 2         ┆ 0.0        ┆ -0.0      ┆ … ┆ 0.0       ┆ 0.0       ┆ -0.0      ┆ -0.0      │\n",
       "│ 0       ┆ 3         ┆ 0.0        ┆ 0.0       ┆ … ┆ 0.0       ┆ 0.0       ┆ -0.0      ┆ -0.0      │\n",
       "│ 0       ┆ 4         ┆ 0.0        ┆ -0.0      ┆ … ┆ 0.0       ┆ 0.0       ┆ 0.0       ┆ 0.0       │\n",
       "└─────────┴───────────┴────────────┴───────────┴───┴───────────┴───────────┴───────────┴───────────┘"
      ]
     },
     "execution_count": 15,
     "metadata": {},
     "output_type": "execute_result"
    }
   ],
   "source": [
    "test_data_subset = test_data.select([pl.col(column) for column in train_feature_list])\n",
    "test_data_subset.head(5)"
   ]
  },
  {
   "cell_type": "code",
   "execution_count": 16,
   "metadata": {},
   "outputs": [],
   "source": [
    "# load saved model to make predictions\n",
    "model = lgb.Booster(model_file='jane_lgbm_null_to_0_custom_loss.txt')"
   ]
  },
  {
   "cell_type": "code",
   "execution_count": 17,
   "metadata": {},
   "outputs": [
    {
     "name": "stderr",
     "output_type": "stream",
     "text": [
      "/home/yang/.pyenv/versions/3.12.4/lib/python3.12/site-packages/lightgbm/basic.py:1218: UserWarning: Converting data to scipy sparse matrix.\n",
      "  _log_warning(\"Converting data to scipy sparse matrix.\")\n"
     ]
    },
    {
     "data": {
      "text/plain": [
       "array([0.21535119, 0.21431521, 0.21431521, 0.21431521, 0.21431521,\n",
       "       0.21431521, 0.21431521, 0.21431521, 0.21300842, 0.21680481,\n",
       "       0.18400499, 0.18329191, 0.18329191, 0.18329191, 0.18329191,\n",
       "       0.18329191, 0.18329191, 0.18329191, 0.18329191, 0.18329191,\n",
       "       0.18329191, 0.18329191, 0.18329191, 0.18329191, 0.18329191,\n",
       "       0.18329191, 0.18329191, 0.18329191, 0.18329191, 0.18329191,\n",
       "       0.18329191, 0.18329191, 0.18329191, 0.18329191, 0.18329191,\n",
       "       0.18329191, 0.18329191, 0.18329191, 0.18329191])"
      ]
     },
     "execution_count": 17,
     "metadata": {},
     "output_type": "execute_result"
    }
   ],
   "source": [
    "y_pred = model.predict(test_data_subset)\n",
    "y_pred"
   ]
  },
  {
   "cell_type": "code",
   "execution_count": 18,
   "metadata": {},
   "outputs": [
    {
     "data": {
      "text/html": [
       "<div><style>\n",
       ".dataframe > thead > tr,\n",
       ".dataframe > tbody > tr {\n",
       "  text-align: right;\n",
       "  white-space: pre-wrap;\n",
       "}\n",
       "</style>\n",
       "<small>shape: (39, 2)</small><table border=\"1\" class=\"dataframe\"><thead><tr><th>row_id</th><th>responder_6</th></tr><tr><td>i64</td><td>f64</td></tr></thead><tbody><tr><td>0</td><td>0.215351</td></tr><tr><td>1</td><td>0.214315</td></tr><tr><td>2</td><td>0.214315</td></tr><tr><td>3</td><td>0.214315</td></tr><tr><td>4</td><td>0.214315</td></tr><tr><td>&hellip;</td><td>&hellip;</td></tr><tr><td>34</td><td>0.183292</td></tr><tr><td>35</td><td>0.183292</td></tr><tr><td>36</td><td>0.183292</td></tr><tr><td>37</td><td>0.183292</td></tr><tr><td>38</td><td>0.183292</td></tr></tbody></table></div>"
      ],
      "text/plain": [
       "shape: (39, 2)\n",
       "┌────────┬─────────────┐\n",
       "│ row_id ┆ responder_6 │\n",
       "│ ---    ┆ ---         │\n",
       "│ i64    ┆ f64         │\n",
       "╞════════╪═════════════╡\n",
       "│ 0      ┆ 0.215351    │\n",
       "│ 1      ┆ 0.214315    │\n",
       "│ 2      ┆ 0.214315    │\n",
       "│ 3      ┆ 0.214315    │\n",
       "│ 4      ┆ 0.214315    │\n",
       "│ …      ┆ …           │\n",
       "│ 34     ┆ 0.183292    │\n",
       "│ 35     ┆ 0.183292    │\n",
       "│ 36     ┆ 0.183292    │\n",
       "│ 37     ┆ 0.183292    │\n",
       "│ 38     ┆ 0.183292    │\n",
       "└────────┴─────────────┘"
      ]
     },
     "execution_count": 18,
     "metadata": {},
     "output_type": "execute_result"
    }
   ],
   "source": [
    "# put predictions into a dataframe with row id\n",
    "predictions = test_data.select(pl.col(\"row_id\"))\n",
    "predictions = predictions.with_columns(pl.Series(\"responder_6\", y_pred))\n",
    "predictions"
   ]
  },
  {
   "cell_type": "code",
   "execution_count": null,
   "metadata": {},
   "outputs": [],
   "source": []
  }
 ],
 "metadata": {
  "kernelspec": {
   "display_name": "Python 3",
   "language": "python",
   "name": "python3"
  },
  "language_info": {
   "codemirror_mode": {
    "name": "ipython",
    "version": 3
   },
   "file_extension": ".py",
   "mimetype": "text/x-python",
   "name": "python",
   "nbconvert_exporter": "python",
   "pygments_lexer": "ipython3",
   "version": "3.12.4"
  }
 },
 "nbformat": 4,
 "nbformat_minor": 2
}
